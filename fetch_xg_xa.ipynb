{
 "cells": [
  {
   "cell_type": "code",
   "execution_count": 1,
   "metadata": {},
   "outputs": [
    {
     "name": "stderr",
     "output_type": "stream",
     "text": [
      "C:\\Users\\Fahad Baig\\AppData\\Local\\Temp\\ipykernel_25004\\86293903.py:31: FutureWarning: Passing literal html to 'read_html' is deprecated and will be removed in a future version. To read from a literal string, wrap it in a 'StringIO' object.\n",
      "  player_stats_df = pd.read_html(str(table))[0]\n"
     ]
    },
    {
     "name": "stdout",
     "output_type": "stream",
     "text": [
      "  Unnamed: 0_level_0 Unnamed: 1_level_0 Unnamed: 2_level_0 Unnamed: 3_level_0  \\\n",
      "                  Rk             Player             Nation                Pos   \n",
      "0                  1         Max Aarons            eng ENG                 DF   \n",
      "1                  2  Joshua Acheampong            eng ENG                 DF   \n",
      "2                  3        Tyler Adams             us USA                 MF   \n",
      "3                  4   Tosin Adarabioyo            eng ENG                 DF   \n",
      "4                  5      Simon Adingra             ci CIV              FW,MF   \n",
      "\n",
      "  Unnamed: 4_level_0 Unnamed: 5_level_0 Unnamed: 6_level_0 Playing Time  \\\n",
      "               Squad                Age               Born           MP   \n",
      "0        Bournemouth             25-047               2000            3   \n",
      "1            Chelsea             18-291               2006            2   \n",
      "2        Bournemouth             26-006               1999           15   \n",
      "3            Chelsea             27-149               1997           12   \n",
      "4           Brighton             23-050               2002           17   \n",
      "\n",
      "               ... Per 90 Minutes                                              \\\n",
      "  Starts  Min  ...            Ast   G+A  G-PK G+A-PK    xG   xAG xG+xAG  npxG   \n",
      "0      1   86  ...           0.00  0.00  0.00   0.00  0.00  0.00   0.00  0.00   \n",
      "1      2  160  ...           0.00  0.00  0.00   0.00  0.12  0.00   0.12  0.12   \n",
      "2     10  956  ...           0.28  0.28  0.00   0.28  0.10  0.07   0.17  0.10   \n",
      "3      9  823  ...           0.00  0.11  0.11   0.11  0.09  0.00   0.09  0.09   \n",
      "4      6  600  ...           0.15  0.45  0.30   0.45  0.22  0.14   0.36  0.22   \n",
      "\n",
      "           Unnamed: 36_level_0  \n",
      "  npxG+xAG             Matches  \n",
      "0     0.00             Matches  \n",
      "1     0.12             Matches  \n",
      "2     0.17             Matches  \n",
      "3     0.09             Matches  \n",
      "4     0.36             Matches  \n",
      "\n",
      "[5 rows x 37 columns]\n",
      "Player stats saved to 'fbref_player_stats.csv'.\n"
     ]
    }
   ],
   "source": [
    "import requests\n",
    "from bs4 import BeautifulSoup, Comment\n",
    "import pandas as pd\n",
    "\n",
    "# URL of the FBref Premier League player stats page\n",
    "url = \"https://fbref.com/en/comps/9/stats/Premier-League-Stats\"\n",
    "\n",
    "# Send a GET request to fetch the page content\n",
    "response = requests.get(url)\n",
    "if response.status_code != 200:\n",
    "    print(\"Failed to retrieve the page.\")\n",
    "    exit()\n",
    "\n",
    "# Parse the page content using BeautifulSoup\n",
    "soup = BeautifulSoup(response.content, \"html.parser\")\n",
    "\n",
    "# Find all comments in the page\n",
    "comments = soup.find_all(string=lambda text: isinstance(text, Comment))\n",
    "\n",
    "# Initialize an empty DataFrame to store player stats\n",
    "player_stats_df = pd.DataFrame()\n",
    "\n",
    "# Iterate over each comment to find the stats table\n",
    "for comment in comments:\n",
    "    # Parse the comment content\n",
    "    comment_soup = BeautifulSoup(comment, \"html.parser\")\n",
    "    # Find the table with the desired stats\n",
    "    table = comment_soup.find(\"table\", {\"id\": \"stats_standard\"})\n",
    "    if table:\n",
    "        # Read the table into a DataFrame\n",
    "        player_stats_df = pd.read_html(str(table))[0]\n",
    "        break\n",
    "\n",
    "# Check if the DataFrame is empty\n",
    "if player_stats_df.empty:\n",
    "    print(\"Could not find the stats table on FBref.\")\n",
    "else:\n",
    "    # Display the first few rows of the DataFrame\n",
    "    print(player_stats_df.head())\n",
    "\n",
    "    # Save the DataFrame to a CSV file\n",
    "    player_stats_df.to_csv(\"fbref_player_stats.csv\", index=False)\n",
    "    print(\"Player stats saved to 'fbref_player_stats.csv'.\")\n"
   ]
  }
 ],
 "metadata": {
  "kernelspec": {
   "display_name": "myenv",
   "language": "python",
   "name": "python3"
  },
  "language_info": {
   "codemirror_mode": {
    "name": "ipython",
    "version": 3
   },
   "file_extension": ".py",
   "mimetype": "text/x-python",
   "name": "python",
   "nbconvert_exporter": "python",
   "pygments_lexer": "ipython3",
   "version": "3.12.2"
  }
 },
 "nbformat": 4,
 "nbformat_minor": 2
}
